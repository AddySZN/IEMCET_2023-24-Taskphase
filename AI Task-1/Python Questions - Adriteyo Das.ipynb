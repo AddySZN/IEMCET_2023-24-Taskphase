{
 "cells": [
  {
   "cell_type": "code",
   "execution_count": 1,
   "id": "1c493805-eaca-4b75-9acf-29d5a4bc4f64",
   "metadata": {},
   "outputs": [
    {
     "name": "stdout",
     "output_type": "stream",
     "text": [
      "x = 0 , y = 0 , z = 10\n",
      "x = 0 , y = 1 , z = 9\n",
      "x = 0 , y = 2 , z = 8\n",
      "x = 0 , y = 3 , z = 7\n",
      "x = 0 , y = 4 , z = 6\n",
      "x = 0 , y = 5 , z = 5\n",
      "x = 0 , y = 6 , z = 4\n",
      "x = 0 , y = 7 , z = 3\n",
      "x = 0 , y = 8 , z = 2\n",
      "x = 0 , y = 9 , z = 1\n",
      "x = 0 , y = 10 , z = 0\n",
      "x = 1 , y = 0 , z = 9\n",
      "x = 1 , y = 1 , z = 8\n",
      "x = 1 , y = 2 , z = 7\n",
      "x = 1 , y = 3 , z = 6\n",
      "x = 1 , y = 4 , z = 5\n",
      "x = 1 , y = 5 , z = 4\n",
      "x = 1 , y = 6 , z = 3\n",
      "x = 1 , y = 7 , z = 2\n",
      "x = 1 , y = 8 , z = 1\n",
      "x = 1 , y = 9 , z = 0\n",
      "x = 2 , y = 0 , z = 8\n",
      "x = 2 , y = 1 , z = 7\n",
      "x = 2 , y = 2 , z = 6\n",
      "x = 2 , y = 3 , z = 5\n",
      "x = 2 , y = 4 , z = 4\n",
      "x = 2 , y = 5 , z = 3\n",
      "x = 2 , y = 6 , z = 2\n",
      "x = 2 , y = 7 , z = 1\n",
      "x = 2 , y = 8 , z = 0\n",
      "x = 3 , y = 0 , z = 7\n",
      "x = 3 , y = 1 , z = 6\n",
      "x = 3 , y = 2 , z = 5\n",
      "x = 3 , y = 3 , z = 4\n",
      "x = 3 , y = 4 , z = 3\n",
      "x = 3 , y = 5 , z = 2\n",
      "x = 3 , y = 6 , z = 1\n",
      "x = 3 , y = 7 , z = 0\n",
      "x = 4 , y = 0 , z = 6\n",
      "x = 4 , y = 1 , z = 5\n",
      "x = 4 , y = 2 , z = 4\n",
      "x = 4 , y = 3 , z = 3\n",
      "x = 4 , y = 4 , z = 2\n",
      "x = 4 , y = 5 , z = 1\n",
      "x = 4 , y = 6 , z = 0\n",
      "x = 5 , y = 0 , z = 5\n",
      "x = 5 , y = 1 , z = 4\n",
      "x = 5 , y = 2 , z = 3\n",
      "x = 5 , y = 3 , z = 2\n",
      "x = 5 , y = 4 , z = 1\n",
      "x = 5 , y = 5 , z = 0\n",
      "x = 6 , y = 0 , z = 4\n",
      "x = 6 , y = 1 , z = 3\n",
      "x = 6 , y = 2 , z = 2\n",
      "x = 6 , y = 3 , z = 1\n",
      "x = 6 , y = 4 , z = 0\n",
      "x = 7 , y = 0 , z = 3\n",
      "x = 7 , y = 1 , z = 2\n",
      "x = 7 , y = 2 , z = 1\n",
      "x = 7 , y = 3 , z = 0\n",
      "x = 8 , y = 0 , z = 2\n",
      "x = 8 , y = 1 , z = 1\n",
      "x = 8 , y = 2 , z = 0\n",
      "x = 9 , y = 0 , z = 1\n",
      "x = 9 , y = 1 , z = 0\n",
      "x = 10 , y = 0 , z = 0\n"
     ]
    }
   ],
   "source": [
    "solutions = []\n",
    "for x in range(11):\n",
    "    for y in range(11):\n",
    "        for z in range(11):\n",
    "            if x + y + z == 10:\n",
    "                solutions.append((x, y, z))\n",
    "\n",
    "for solution in solutions:\n",
    "    print(\"x =\", solution[0], \", y =\", solution[1], \", z =\", solution[2])"
   ]
  },
  {
   "cell_type": "code",
   "execution_count": 2,
   "id": "89c36c15-f3a3-407a-8bf5-219e2805848c",
   "metadata": {},
   "outputs": [
    {
     "name": "stdin",
     "output_type": "stream",
     "text": [
      "Enter a list [\"Abhishek Kumar\", \"Mahadev Naidu Parimi\", \"Adriteyo Das\", \"Dan Simmons\", \"Agatha Christie\"]\n"
     ]
    },
    {
     "name": "stdout",
     "output_type": "stream",
     "text": [
      "0 . ABHISHEKkum\n",
      "1 . MAHADEVnaidupari\n",
      "2 . ADRITEYOd\n",
      "3 . DANsimmo\n",
      "4 . AGATHAchrist\n"
     ]
    }
   ],
   "source": [
    "L = eval(input(\"Enter a list\"))\n",
    "newL = []\n",
    "for i in L:\n",
    "    L1 = i.partition(\" \")\n",
    "    comp = L1[0].upper() + L1[2][:-2:].lower().replace(\" \",\"\")\n",
    "    newL.append(comp)\n",
    "for i in range (0, len(newL)):\n",
    "    print (i , \".\", newL[i])"
   ]
  },
  {
   "cell_type": "code",
   "execution_count": 3,
   "id": "6840fffb-c423-4432-bacf-f4dd56ce3989",
   "metadata": {},
   "outputs": [
    {
     "name": "stdin",
     "output_type": "stream",
     "text": [
      "Enter first number:  20\n",
      "Enter second number:  50\n",
      "Enter operation (+, -, *, /, %, **):  *\n"
     ]
    },
    {
     "name": "stdout",
     "output_type": "stream",
     "text": [
      "20.0 * 50.0 = 1000.0\n"
     ]
    }
   ],
   "source": [
    "def addition(x, y):\n",
    "    return x + y\n",
    "\n",
    "def subtraction(x, y):\n",
    "    return x - y\n",
    "\n",
    "def multiplication(x, y):\n",
    "    return x * y\n",
    "\n",
    "def division(x, y):\n",
    "    if y != 0:\n",
    "        return x / y\n",
    "    else:\n",
    "        return \"Division by zero is not allowed!\"\n",
    "\n",
    "def modulus(x, y):\n",
    "    return x % y\n",
    "\n",
    "def exponent(x, y):\n",
    "    return x ** y\n",
    "\n",
    "num1 = float(input(\"Enter first number: \"))\n",
    "num2 = float(input(\"Enter second number: \"))\n",
    "operation = input(\"Enter operation (+, -, *, /, %, **): \")\n",
    "\n",
    "result = 0\n",
    "\n",
    "if operation == '+':\n",
    "    result = addition(num1, num2)\n",
    "elif operation == '-':\n",
    "    result = subtraction(num1, num2)\n",
    "elif operation == '*':\n",
    "    result = multiplication(num1, num2)\n",
    "elif operation == '/':\n",
    "    result = division(num1, num2)\n",
    "elif operation == '%':\n",
    "    result = modulus(num1, num2)\n",
    "elif operation == '**':\n",
    "    result = exponent(num1, num2)\n",
    "else:\n",
    "    print(\"Invalid operation!\")\n",
    "print (num1 , operation, num2 , \"=\", result)"
   ]
  },
  {
   "cell_type": "code",
   "execution_count": 4,
   "id": "ac046232-5703-4f1b-9c21-e3a3feef8cd3",
   "metadata": {},
   "outputs": [
    {
     "name": "stdin",
     "output_type": "stream",
     "text": [
      "Enter Lower Limit  1\n",
      "Enter Upper Limit  10\n"
     ]
    },
    {
     "name": "stdout",
     "output_type": "stream",
     "text": [
      "2,3,5,7"
     ]
    }
   ],
   "source": [
    "n1 = int (input (\"Enter Lower Limit \"))\n",
    "n2 = int (input (\"Enter Upper Limit \"))\n",
    "L = []\n",
    "for i in range (n1, n2 + 1):\n",
    "    flag = 0\n",
    "    for j in range (2,i):\n",
    "        if i%j == 0 :\n",
    "            flag += 1\n",
    "    if flag == 0 and i!=1 and i!=0:\n",
    "        L.append(i)\n",
    "        L.append(\",\")\n",
    "for i in L[:-1:]:\n",
    "    print (i, end = \"\")"
   ]
  },
  {
   "cell_type": "code",
   "execution_count": null,
   "id": "7cd9c613-ca30-41c3-86ee-8098a7209259",
   "metadata": {},
   "outputs": [],
   "source": [
    "names = []\n",
    "numbers = []\n",
    "L = []\n",
    "def ValueEnter(Arr):\n",
    "    for i in range (5):\n",
    "        element = input(\"Enter a Value\")\n",
    "        Arr.append(element)\n",
    "ValueEnter(names)\n",
    "ValueEnter(numbers)\n",
    "for i in range(5):\n",
    "    L.append([numbers[i],names[i]])\n",
    "L.sort()\n",
    "dic = {}\n",
    "for i,j in L:\n",
    "    dic[j] = int(i)\n",
    "print (dic)"
   ]
  },
  {
   "cell_type": "code",
   "execution_count": null,
   "id": "b7faf4fe-225d-4c8a-8f40-b41ac9a9073a",
   "metadata": {},
   "outputs": [],
   "source": []
  }
 ],
 "metadata": {
  "kernelspec": {
   "display_name": "Python 3 (ipykernel)",
   "language": "python",
   "name": "python3"
  },
  "language_info": {
   "codemirror_mode": {
    "name": "ipython",
    "version": 3
   },
   "file_extension": ".py",
   "mimetype": "text/x-python",
   "name": "python",
   "nbconvert_exporter": "python",
   "pygments_lexer": "ipython3",
   "version": "3.10.2"
  }
 },
 "nbformat": 4,
 "nbformat_minor": 5
}
